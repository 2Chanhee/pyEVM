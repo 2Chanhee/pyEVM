{
 "cells": [
  {
   "cell_type": "code",
   "execution_count": 1,
   "metadata": {},
   "outputs": [],
   "source": [
    "# 필요한 라이브러리 및 모듈\n",
    "\n",
    "import numpy as np\n",
    "import cv2\n",
    "import butter\n",
    "from matplotlib import pyplot as plt"
   ]
  },
  {
   "cell_type": "code",
   "execution_count": 2,
   "metadata": {},
   "outputs": [],
   "source": [
    "# 1. Read Video file\n",
    "\n",
    "# generate video object\n",
    "filename = \"./input/original_video_SR30.mp4\"\n",
    "cap = cv2.VideoCapture(filename)"
   ]
  },
  {
   "cell_type": "code",
   "execution_count": 3,
   "metadata": {
    "scrolled": true
   },
   "outputs": [
    {
     "name": "stdout",
     "output_type": "stream",
     "text": [
      "Shape of image is :  (256, 640, 3)\n",
      "Shape of image is :  (256, 640)\n"
     ]
    }
   ],
   "source": [
    "# 2. Gray Scale로 변환\n",
    "\n",
    "# 첫번째 프레임 읽기\n",
    "ret, frame = cap.read()\n",
    "\n",
    "# 영상의 사이즈 확인\n",
    "frame_size = frame.shape\n",
    "print(\"Shape of image is : \",frame.shape)\n",
    "\n",
    "# Gray Sacle 이미지로 변환\n",
    "gray = cv2.cvtColor(frame, cv2.COLOR_BGR2GRAY)\n",
    "print(\"Shape of image is : \",gray.shape)"
   ]
  },
  {
   "cell_type": "code",
   "execution_count": null,
   "metadata": {},
   "outputs": [],
   "source": [
    "# J = imadjust(I,[low_in high_in])은 low_in과 high_in 사이의 값이 0과 1 사이의 값에 매핑되도록 I의 명암 값을 J의 새 값에 매핑합니다.\n",
    "# J = imadjust(I)는 회색조 영상 I의 명암 값을 J의 새 값에 매핑합니다. 기본적으로 imadjust는 \n",
    "# 모든 픽셀 값의 하위 1%와 상위 1%를 포화(saturate) 처리합니다. 이렇게 하면 출력 영상 J의 대비가 증가합니다.\n",
    "\n",
    "hist_cv = cv2.calcHist([gray],[0],None,[256],[0,256])"
   ]
  },
  {
   "cell_type": "code",
   "execution_count": null,
   "metadata": {},
   "outputs": [],
   "source": [
    "img_cv_eq = cv2.equalizeHist(gray)\n",
    "plt.imshow(img_cv_eq, cmap = 'gray')"
   ]
  },
  {
   "cell_type": "code",
   "execution_count": 27,
   "metadata": {},
   "outputs": [
    {
     "data": {
      "image/png": "[encoded data removed]",
      "text/plain": [
       "<Figure size 432x288 with 2 Axes>"
      ]
     },
     "metadata": {
      "needs_background": "light"
     },
     "output_type": "display_data"
    }
   ],
   "source": [
    "# hist_np 에 들어가는 값 : index = intensity, hist_np[i] = intensity 가 i인 픽셀의 갯수\n",
    "hist_np, bins = np.histogram(gray.flatten(), 256,[0,256])\n",
    "\n",
    "# cumsum : cdf[i] = sum(hist_np[0:i])\n",
    "cdf = hist_np.cumsum()\n",
    "\n",
    "# cdf의 값이 0인 경우는 mask처리를 하여 계산에서 제외\n",
    "# mask처리가 되면 Numpy 계산에서 제외가 됨\n",
    "# 아래는 cdf array에서 값이 0인 부분을 mask처리함\n",
    "# --로 변환되는 부분의 의미는??\n",
    "cdf_m = np.ma.masked_equal(cdf,0)\n",
    "\n",
    "#History Equalization 공식\n",
    "cdf_m = (cdf - cdf.min())*255/(cdf.max()-cdf.min())\n",
    "\n",
    "# Mask처리를 했던 부분을 다시 0으로 변환\n",
    "cdf = np.ma.filled(cdf_m,0).astype('uint8')\n",
    "\n",
    "img2 = cdf[gray]\n",
    "plt.subplot(121),plt.imshow(gray, cmap = 'gray'),plt.title('Original')\n",
    "plt.subplot(122),plt.imshow(img2, cmap = 'gray'),plt.title('Equalization')\n",
    "plt.show()"
   ]
  },
  {
   "cell_type": "code",
   "execution_count": 10,
   "metadata": {},
   "outputs": [
    {
     "data": {
      "text/plain": [
       "(256,)"
      ]
     },
     "execution_count": 10,
     "metadata": {},
     "output_type": "execute_result"
    }
   ],
   "source": [
    "cdf.shape"
   ]
  },
  {
   "cell_type": "code",
   "execution_count": 12,
   "metadata": {},
   "outputs": [],
   "source": [
    "hist_np, bins = np.histogram(gray.flatten(), 256,[0,256])"
   ]
  },
  {
   "cell_type": "code",
   "execution_count": 26,
   "metadata": {
    "scrolled": false
   },
   "outputs": [
    {
     "name": "stdout",
     "output_type": "stream",
     "text": [
      "[     0      0      0      0      0      0      0      0      0      0\n",
      "      0      0      0      0      0      0      0      0      0      0\n",
      "      0      0      0      0      0      0      0      0      0      0\n",
      "      0      0      0      0      0      0      0      0      0      0\n",
      "      0      0      0      0      0      0      0      0      0      0\n",
      "      0      0      0      0      0      0      0      0      0      0\n",
      "      0      0      0      0      1      2      2      2      2      4\n",
      "      4      6      9     12     12     12     14     14     16     19\n",
      "     20     27     32     37     37     40     51     66     82     91\n",
      "    111    128    128    138    150    172    183    192    199    199\n",
      "    215    238    245    268    286    304    304    316    336    360\n",
      "    374    382    397    397    407    417    427    441    453    463\n",
      "    463    472    482    497    514    537    559    559    583    596\n",
      "    618    633    654    669    669    692    710    726    751    787\n",
      "    814    814    836    873    897    921    943    962    962    984\n",
      "    999   1020   1035   1062   1084   1084   1111   1147   1175   1235\n",
      "   1269   1317   1317   1351   1387   1435   1475   1508   1536   1536\n",
      "   1564   1600   1639   1672   1703   1747   1795   1795   1843   1921\n",
      "   2029   2139   2303   2505   2505   2718   2924   3142   3473   3813\n",
      "   4092   4092   4479   4813   5115   5311   5511   5719   5719   5893\n",
      "   6061   6227   6405   6562   6720   6720   6889   7053   7236   7394\n",
      "   7569   7786   7786   7965   8193   8414   8596   8751   8899   8899\n",
      "   9027   9123   9186   9272   9387   9573   9573   9827  10044  10544\n",
      "  11174  12392  14947  14947  18361  25098  53469  96217 112725 128745\n",
      " 128745 152372 163548 163825 163834 163838 163840 163840 163840 163840\n",
      " 163840 163840 163840 163840 163840 163840]\n",
      "[-- -- -- -- -- -- -- -- -- -- -- -- -- -- -- -- -- -- -- -- -- -- -- --\n",
      " -- -- -- -- -- -- -- -- -- -- -- -- -- -- -- -- -- -- -- -- -- -- -- --\n",
      " -- -- -- -- -- -- -- -- -- -- -- -- -- -- -- -- 1 2 2 2 2 4 4 6 9 12 12\n",
      " 12 14 14 16 19 20 27 32 37 37 40 51 66 82 91 111 128 128 138 150 172 183\n",
      " 192 199 199 215 238 245 268 286 304 304 316 336 360 374 382 397 397 407\n",
      " 417 427 441 453 463 463 472 482 497 514 537 559 559 583 596 618 633 654\n",
      " 669 669 692 710 726 751 787 814 814 836 873 897 921 943 962 962 984 999\n",
      " 1020 1035 1062 1084 1084 1111 1147 1175 1235 1269 1317 1317 1351 1387\n",
      " 1435 1475 1508 1536 1536 1564 1600 1639 1672 1703 1747 1795 1795 1843\n",
      " 1921 2029 2139 2303 2505 2505 2718 2924 3142 3473 3813 4092 4092 4479\n",
      " 4813 5115 5311 5511 5719 5719 5893 6061 6227 6405 6562 6720 6720 6889\n",
      " 7053 7236 7394 7569 7786 7786 7965 8193 8414 8596 8751 8899 8899 9027\n",
      " 9123 9186 9272 9387 9573 9573 9827 10044 10544 11174 12392 14947 14947\n",
      " 18361 25098 53469 96217 112725 128745 128745 152372 163548 163825 163834\n",
      " 163838 163840 163840 163840 163840 163840 163840 163840 163840 163840\n",
      " 163840]\n",
      "(256,)\n",
      "[-- -- -- -- -- -- -- -- -- -- -- -- -- -- -- -- -- -- -- -- -- -- -- --\n",
      " -- -- -- -- -- -- -- -- -- -- -- -- -- -- -- -- -- -- -- -- -- -- -- --\n",
      " -- -- -- -- -- -- -- -- -- -- -- -- -- -- -- -- 0 0 0 0 0 0 0 0 0 0 0 0 0\n",
      " 0 0 0 0 0 0 0 0 0 0 0 0 0 0 0 0 0 0 0 0 0 0 0 0 0 0 0 0 0 0 0 0 0 0 0 0 0\n",
      " 0 0 0 0 0 0 0 0 0 0 0 0 0 0 0 0 0 0 0 0 0 0 0 0 0 0 0 0 0 0 0 0 0 0 0 0 0\n",
      " 0 0 0 0 0 0 0 0 0 0 0 0 0 0 0 0 0 0 0 0 0 0 0 0 0 0 0 0 0 0 0 0 0 0 0 0 0\n",
      " 0 0 0 0 0 0 0 0 0 0 0 0 0 0 0 0 0 0 0 0 0 0 0 0 0 0 0 0 0 0 0 0 0 0 0 0 0\n",
      " 0 0 0 0 0 0 0 0 0 0 0 0 0 0 0 0 0 0 0 0 0 0 0 0 0 0 0 0 0 0 0]\n",
      "--\n"
     ]
    }
   ],
   "source": [
    "#print(hist_np)\n",
    "#print(hist_np.shape)\n",
    "cdf = hist_np.cumsum()\n",
    "print(cdf)\n",
    "cdf_m = np.ma.masked_equal(cdf,0)\n",
    "print(cdf_m)\n",
    "print(cdf_m.shape)\n",
    "print(cdf_m - cdf)\n",
    "print(cdf_m[0])"
   ]
  },
  {
   "cell_type": "code",
   "execution_count": 39,
   "metadata": {
    "scrolled": false
   },
   "outputs": [
    {
     "name": "stdout",
     "output_type": "stream",
     "text": [
      "[0.         0.         0.         0.         0.         0.\n",
      " 0.         0.         0.         0.         0.         0.\n",
      " 0.         0.         0.         0.         0.         0.\n",
      " 0.         0.         0.         0.         0.         0.\n",
      " 0.         0.         0.         0.         0.         0.\n",
      " 0.         0.         0.         0.         0.         0.\n",
      " 0.         0.         0.         0.         0.         0.\n",
      " 0.         0.         0.         0.         0.         0.\n",
      " 0.         0.         0.         0.         0.         0.\n",
      " 0.         0.         0.         0.         0.         0.\n",
      " 0.         0.         0.         0.         0.         0.\n",
      " 0.         0.         0.         0.         0.         0.\n",
      " 0.         0.         0.         0.         0.         0.\n",
      " 0.         0.         0.         0.         0.         0.\n",
      " 0.         0.         0.         0.         0.         0.\n",
      " 0.         0.         0.         0.         0.         0.\n",
      " 0.         0.         0.         0.         0.         0.\n",
      " 0.         0.         0.         0.         0.         0.\n",
      " 0.         0.         0.         0.         0.         0.\n",
      " 0.         0.         0.         0.         0.         0.\n",
      " 0.         0.         0.         0.         0.         0.\n",
      " 0.         0.         0.         0.         0.         0.\n",
      " 0.00392157 0.00392157 0.00392157 0.00392157 0.00392157 0.00392157\n",
      " 0.00392157 0.00392157 0.00392157 0.00392157 0.00392157 0.00392157\n",
      " 0.00392157 0.00392157 0.00392157 0.00392157 0.00392157 0.00392157\n",
      " 0.00392157 0.00392157 0.00392157 0.00392157 0.00392157 0.00392157\n",
      " 0.00392157 0.00392157 0.00392157 0.00392157 0.00392157 0.00784314\n",
      " 0.00784314 0.00784314 0.00784314 0.00784314 0.00784314 0.00784314\n",
      " 0.00784314 0.00784314 0.00784314 0.00784314 0.00784314 0.00784314\n",
      " 0.00784314 0.00784314 0.00784314 0.00784314 0.00784314 0.00784314\n",
      " 0.01176471 0.01176471 0.01176471 0.01176471 0.01176471 0.01568627\n",
      " 0.01568627 0.01568627 0.01960784 0.01960784 0.02352941 0.02352941\n",
      " 0.02352941 0.02745098 0.02745098 0.03137255 0.03137255 0.03137255\n",
      " 0.03137255 0.03529412 0.03529412 0.03529412 0.03529412 0.03921569\n",
      " 0.03921569 0.03921569 0.03921569 0.03921569 0.04313725 0.04313725\n",
      " 0.04313725 0.04705882 0.04705882 0.04705882 0.04705882 0.05098039\n",
      " 0.05098039 0.05098039 0.05098039 0.05098039 0.05490196 0.05490196\n",
      " 0.05490196 0.05490196 0.05490196 0.05490196 0.05490196 0.05882353\n",
      " 0.05882353 0.0627451  0.06666667 0.0745098  0.09019608 0.09019608\n",
      " 0.10980392 0.15294118 0.3254902  0.58431373 0.68627451 0.78431373\n",
      " 0.78431373 0.92941176 0.99607843 0.99607843 0.99607843 0.99607843\n",
      " 1.         1.         1.         1.         1.         1.\n",
      " 1.         1.         1.         1.        ]\n",
      "[False False False False False False False False False False False False\n",
      " False False False False False False False False False False False False\n",
      " False False False False False False False False False False False False\n",
      " False False False False False False False False False False False False\n",
      " False False False False False False False False False False False False\n",
      " False False False False False False False False False False False False\n",
      " False False False False False False False False False False False False\n",
      " False False False False False False False False False False False False\n",
      " False False False False False False False False False False False False\n",
      " False False False False False False False False False False False False\n",
      " False False False False False False False False False False False False\n",
      " False False False False False False False False False False False False\n",
      " False False False False False False False False False False False False\n",
      " False False False False False False False False False False False False\n",
      " False False False False False False False False False False False False\n",
      " False False False False False False False False False False False False\n",
      " False False False False False False False False False False False False\n",
      " False False False False False False False False False False False False\n",
      " False False False False False False False False False False False False\n",
      " False False False False False False False False False False False False\n",
      " False False  True  True  True  True  True  True  True  True  True  True\n",
      "  True  True  True  True]\n"
     ]
    },
    {
     "ename": "AttributeError",
     "evalue": "'numpy.ndarray' object has no attribute 'find'",
     "output_type": "error",
     "traceback": [
      "\u001b[1;31m---------------------------------------------------------------------------\u001b[0m",
      "\u001b[1;31mAttributeError\u001b[0m                            Traceback (most recent call last)",
      "\u001b[1;32m<ipython-input-39-be533115c348>\u001b[0m in \u001b[0;36m<module>\u001b[1;34m\u001b[0m\n\u001b[0;32m      3\u001b[0m \u001b[0mratio_high\u001b[0m \u001b[1;33m=\u001b[0m \u001b[0mratio\u001b[0m \u001b[1;33m>\u001b[0m \u001b[1;36m0.99\u001b[0m\u001b[1;33m\u001b[0m\u001b[1;33m\u001b[0m\u001b[0m\n\u001b[0;32m      4\u001b[0m \u001b[0mprint\u001b[0m\u001b[1;33m(\u001b[0m\u001b[0mratio_high\u001b[0m\u001b[1;33m)\u001b[0m\u001b[1;33m\u001b[0m\u001b[1;33m\u001b[0m\u001b[0m\n\u001b[1;32m----> 5\u001b[1;33m \u001b[0mprint\u001b[0m\u001b[1;33m(\u001b[0m\u001b[0mratio_high\u001b[0m\u001b[1;33m.\u001b[0m\u001b[0mfind\u001b[0m\u001b[1;33m(\u001b[0m\u001b[1;32mTrue\u001b[0m\u001b[1;33m)\u001b[0m\u001b[1;33m)\u001b[0m\u001b[1;33m\u001b[0m\u001b[1;33m\u001b[0m\u001b[0m\n\u001b[0m",
      "\u001b[1;31mAttributeError\u001b[0m: 'numpy.ndarray' object has no attribute 'find'"
     ]
    }
   ],
   "source": [
    "ratio = cdf / cdf.max()\n",
    "print(ratio)\n",
    "ratio_high = ratio > 0.99\n",
    "print(ratio_high)\n",
    "print(ratio_high.find(True))"
   ]
  },
  {
   "cell_type": "code",
   "execution_count": 19,
   "metadata": {},
   "outputs": [
    {
     "name": "stdout",
     "output_type": "stream",
     "text": [
      "[236 236 236 ... 218 220 220]\n",
      "(163840,)\n",
      "163840\n"
     ]
    }
   ],
   "source": [
    "a = np.array([[1, 2, 3],[4, 5, 6]])\n",
    "#print(a)\n",
    "b = gray.flatten()\n",
    "print(b)\n",
    "print(b.shape)\n",
    "print(640*256)"
   ]
  },
  {
   "cell_type": "code",
   "execution_count": null,
   "metadata": {},
   "outputs": [],
   "source": [
    "# pyramid 안쓰고, resize함수로 피라미드 정의\n",
    "\n",
    "def pyramidDown(input):\n",
    "    # input is numpy array\n",
    "    heigh, width = input.shape\n",
    "    #output = np.zeros((size[0]//2, size[1]//2))\n",
    "    blur = cv2.GaussianBlur(input, (5,5), 0)\n",
    "    output = cv2.resize(input, None, fx = 0.5, fy = 0.5)\n",
    "    return output\n",
    "\n",
    "def pyramidUp(input):\n",
    "    # input is numpy array\n",
    "    heigh, width = input.shape\n",
    "    #output = np.zeros((size[0]//2, size[1]//2))\n",
    "    output = cv2.resize(input, None, fx = 2, fy = 2, interpolation = cv2.INTER_CUBIC) #interpolatino 수정 바람\n",
    "    return output\n"
   ]
  },
  {
   "cell_type": "code",
   "execution_count": null,
   "metadata": {},
   "outputs": [],
   "source": [
    "# 3. Pyramid\n",
    "# 모든 프레임에 대해 과정3 적용\n",
    "Gau_seq = [[],[],[],[],[],[]]\n",
    "Lap_seq = [[],[],[],[],[],[]]\n",
    "\n",
    "while ret:\n",
    "    gray = cv2.cvtColor(frame, cv2.COLOR_BGR2GRAY)\n",
    "    \n",
    "    # Normalize intensity\n",
    "    gray = gray.astype('float32')\n",
    "    gray = gray / 255\n",
    "    \n",
    "    Gau = [gray]\n",
    "    Down = pyramidDown(gray)\n",
    "    Gau.append(Down)\n",
    "\n",
    "    for i in range (0, 6):\n",
    "        Down = pyramidDown(Down)\n",
    "        Gau.append(Down)\n",
    "    \n",
    "    Gau_copy = []\n",
    "    Gau_copy[:] = Gau\n",
    "    Gau_copy.reverse()\n",
    "    \n",
    "    for i in range (0,6):\n",
    "        Gau_seq[i].append(Gau_copy.pop())\n",
    "\n",
    "    Lap = []\n",
    "    for i in range (0, 6):\n",
    "        Up = pyramidUp(Gau.pop())\n",
    "        Lap.append(Up - Gau[len(Gau)-1])\n",
    "\n",
    "    #Lap.reverse()\n",
    "    \n",
    "    for i in range (0,6):\n",
    "        Lap_seq[i].append(Lap.pop())\n",
    "    ret, frame = cap.read()"
   ]
  },
  {
   "cell_type": "code",
   "execution_count": null,
   "metadata": {
    "scrolled": false
   },
   "outputs": [],
   "source": [
    "print(Gau_seq[0][0])\n",
    "f = open('GaussianPramid_L0_0_change1.csv', 'a')\n",
    "np.savetxt(f, Gau_seq[0][0], delimiter=\",\", fmt='%s',  newline='\\n')\n",
    "\n",
    "# 최대 0.2 까지 오차 발생함 = uint8에서 50까지 밝기값 차이가 발생함;"
   ]
  },
  {
   "cell_type": "code",
   "execution_count": null,
   "metadata": {},
   "outputs": [],
   "source": [
    "# 4. 확대 주파수 결정 및 필터링\n",
    "# Parameter Initializing \n",
    "\n",
    "SR = 2200 # SR is Sampling Rate\n",
    "Fn = SR/2\n",
    "T = 1/SR # T is Period\n",
    "Low_freq = 350\n",
    "High_freq = 370\n",
    "alpha = 100.0"
   ]
  },
  {
   "cell_type": "code",
   "execution_count": null,
   "metadata": {},
   "outputs": [],
   "source": [
    "# 4.5 연산을 위해 0~1 사이의 부동소수점으로 변환\n",
    "'''\n",
    "for i in range(0, 3):\n",
    "    for j in range(0, 101):\n",
    "        Lap_seq[i][j] = Lap_seq[i][j].astype('float64')\n",
    "        Lap_seq[i][j] = Lap_seq[i][j]/255'''"
   ]
  },
  {
   "cell_type": "code",
   "execution_count": null,
   "metadata": {},
   "outputs": [],
   "source": [
    "# pyramid data 저장\n",
    "'''\n",
    "f = open('LaplacianPramid_L0_0.csv', 'a')\n",
    "\n",
    "np.savetxt(f, np.column_stack((Lap_seq[0][0])), delimiter=\",\", fmt='%s',  newline='\\n')'''"
   ]
  },
  {
   "cell_type": "code",
   "execution_count": null,
   "metadata": {
    "scrolled": false
   },
   "outputs": [],
   "source": [
    "# 원하는 주파수 선택적으로 확대 \n",
    "import time\n",
    "start = time.time()\n",
    "f=open('python_bandpass.csv','a')\n",
    "\n",
    "# level 0\n",
    "for i in range (0, frame_size[0]):\n",
    "    for j in range (0, frame_size[1]):\n",
    "        time_stack = []\n",
    "        \n",
    "        for k in range (0, 101):\n",
    "            time_stack.append(Lap_seq[0][k][i][j])\n",
    "            \n",
    "        time_stack = butter.butter_bandpass_filter(time_stack, Low_freq, High_freq, SR, order=5)\n",
    "        #np.savetxt(f, np.column_stack(time_stack), delimiter=\",\", fmt='%s',  newline='\\n')\n",
    "        for k in range (0, 101):\n",
    "            Lap_seq[0][k][i][j] += alpha * time_stack[k]\n",
    "            \n",
    "end = time.time()\n",
    "delay = end - start\n",
    "print(\"1st level : \", delay)"
   ]
  },
  {
   "cell_type": "code",
   "execution_count": null,
   "metadata": {
    "scrolled": false
   },
   "outputs": [],
   "source": [
    "# level 1 \n",
    "start = time.time()\n",
    "for i in range (0, Lap_seq[1][0].shape[0]):\n",
    "    for j in range (0, Lap_seq[1][0].shape[1]):\n",
    "        time_stack = []\n",
    "        \n",
    "        for k in range (0, 101):\n",
    "            time_stack.append(Lap_seq[1][k][i][j])\n",
    "            \n",
    "        time_stack = butter.butter_bandpass_filter(time_stack, Low_freq, High_freq, SR, order=5)\n",
    "        \n",
    "        for k in range (0, 101):\n",
    "            Lap_seq[1][k][i][j] += alpha * time_stack[k]\n",
    "            \n",
    "end = time.time()\n",
    "delay = end - start\n",
    "print(\"2nd level : \", delay)"
   ]
  },
  {
   "cell_type": "code",
   "execution_count": null,
   "metadata": {
    "scrolled": false
   },
   "outputs": [],
   "source": [
    "# level 2\n",
    "start = time.time()\n",
    "\n",
    "for i in range (0, Lap_seq[2][0].shape[0]):\n",
    "    for j in range (0, Lap_seq[2][0].shape[1]):\n",
    "        time_stack = []\n",
    "        \n",
    "        for k in range (0, 101):\n",
    "            time_stack.append(Lap_seq[2][k][i][j])\n",
    "            \n",
    "        time_stack = butter.butter_bandpass_filter(time_stack, Low_freq, High_freq, SR, order=5)\n",
    "        \n",
    "        for k in range (0, 101):\n",
    "            Lap_seq[2][k][i][j] += time_stack[k]\n",
    "            \n",
    "end = time.time()\n",
    "delay = end - start\n",
    "print(\"3nd level : \", delay)"
   ]
  },
  {
   "cell_type": "code",
   "execution_count": null,
   "metadata": {},
   "outputs": [],
   "source": [
    "# 변환했던 부동소수점 데이터를 다시 정수로 변환\n",
    "\n",
    "for i in range(0, 3):\n",
    "    for j in range(0, 101):\n",
    "        Lap_seq[i][j] *= 255\n",
    "        Lap_seq[i][j] = Lap_seq[i][j].astype('uint8')\n",
    "\n",
    "for i in range(0, 3):\n",
    "    for j in range(0, 101):\n",
    "        Gau_seq[i][j] *= 255\n",
    "        Gau_seq[i][j] = Gau_seq[i][j].astype('uint8')\n",
    "        "
   ]
  },
  {
   "cell_type": "code",
   "execution_count": null,
   "metadata": {
    "scrolled": false
   },
   "outputs": [],
   "source": [
    "# 5. 동영상으로 저장하기\n",
    "# 영상 스택 쌓기\n",
    "\n",
    "Rec2= []\n",
    "for i in range (0, 101):\n",
    "    Rec2.append( Lap_seq[2][i] + Gau_seq[2][i])\n",
    "\n",
    "for i in range (0, 101):\n",
    "    Rec2[i] = cv2.pyrUp(Rec2[i])\n",
    "\n",
    "Rec1 = []\n",
    "for i in range (0, 101):\n",
    "    Rec1.append( Lap_seq[1][i] + Rec2[i] )\n",
    "\n",
    "for i in range (0, 101):\n",
    "    Rec1[i] = cv2.pyrUp(Rec1[i])\n",
    "\n",
    "Rec0 = []\n",
    "for i in range (0, 101):\n",
    "    Rec0.append( Lap_seq[0][i] + Rec1[i] )"
   ]
  },
  {
   "cell_type": "code",
   "execution_count": null,
   "metadata": {},
   "outputs": [],
   "source": [
    "# Output 파일 생성 \n",
    "\n",
    "size = Rec0[0].shape\n",
    "\n",
    "fourcc = cv2.VideoWriter_fourcc(*'MP4V')\n",
    "out = cv2.VideoWriter('./output/' + 'alpha_' + str(alpha) + 'output.mp4', fourcc, 30.0, (640, 256), isColor = False)\n",
    "\n",
    "for i in range (0, len(Rec0)):\n",
    "    #out.write(cv2.cvtColor(Rec0[i], cv2.COLOR_GRAY2RGB))\n",
    "    out.write(Rec0[i])\n",
    "#    cv2.imshow('frame', Rec0[i])\n",
    "#    if cv2.waitKey(0) & 0xFF == ord('q'):\n",
    "#            break\n",
    "\n",
    "#cv2.destroyAllWindows()\n",
    "            \n",
    "out.release()\n",
    "\n",
    "print(\"done\")\n",
    "print(size)"
   ]
  },
  {
   "cell_type": "code",
   "execution_count": null,
   "metadata": {},
   "outputs": [],
   "source": [
    "cv2.imshow('ad', Lap_seq[1][1])\n",
    "cv2.waitKey(0)\n",
    "cv2.destroyAllWindows()"
   ]
  },
  {
   "cell_type": "code",
   "execution_count": null,
   "metadata": {
    "scrolled": false
   },
   "outputs": [],
   "source": [
    "# 3. Pyramid\n",
    "# 한 프레임에 먼저 해보기\n",
    "\n",
    "'''\n",
    "Gau = [gray]\n",
    "Down = cv2.pyrDown(gray)\n",
    "Gau.append(Down)\n",
    "\n",
    "for i in range (0, 5):\n",
    "    Down = cv2.pyrDown(Down)\n",
    "    Gau.append(Down)\n",
    "\n",
    "Gau_copy = []\n",
    "Gau_copy[:] = Gau\n",
    "Gau_copy.reverse()\n",
    "\n",
    "# 이미지를 sequential하게 저장\n",
    "Gau_seq = [[],[],[],[],[],[]]\n",
    "for i in range (0,6):\n",
    "    Gau_seq[i].append(Gau_copy.pop())\n",
    "    \n",
    "Lap = []\n",
    "for i in range (0, 6):\n",
    "    Up = cv2.pyrUp(Gau.pop())\n",
    "    Lap.append(Up - Gau[len(Gau)-1])\n",
    "    \n",
    "#Lap.reverse()\n",
    "\n",
    "Lap_seq = [[],[],[],[],[],[]]\n",
    "for i in range (0,6):\n",
    "    Lap_seq[i].append(Lap.pop())'''"
   ]
  },
  {
   "cell_type": "code",
   "execution_count": null,
   "metadata": {},
   "outputs": [],
   "source": [
    "# 모든 프레임에 대해 적용\n",
    "'''\n",
    "while ret:\n",
    "    gray = cv2.cvtColor(frame, cv2.COLOR_BGR2GRAY)\n",
    "    \n",
    "    #hist = cv2.equalizeHist(gray)\n",
    "    \n",
    "    Gau = [gray]\n",
    "    Down = cv2.pyrDown(gray)\n",
    "    Gau.append(Down)\n",
    "\n",
    "    for i in range (0, 5):\n",
    "        Down = cv2.pyrDown(Down)\n",
    "        Gau.append(Down)\n",
    "    \n",
    "    Gau_copy = []\n",
    "    Gau_copy[:] = Gau\n",
    "    Gau_copy.reverse()\n",
    "    \n",
    "    for i in range (0,6):\n",
    "        Gau_seq[i].append(Gau_copy.pop())\n",
    "\n",
    "    Lap = []\n",
    "    for i in range (0, 6):\n",
    "        Up = cv2.pyrUp(Gau.pop())\n",
    "        Lap.append(Up - Gau[len(Gau)-1])\n",
    "\n",
    "    #Lap.reverse()\n",
    "    \n",
    "    for i in range (0,6):\n",
    "        Lap_seq[i].append(Lap.pop())\n",
    "    ret, frame = cap.read()'''"
   ]
  },
  {
   "cell_type": "code",
   "execution_count": null,
   "metadata": {},
   "outputs": [],
   "source": [
    "# 3. 부동소수점 데이터로 먼저 변환\n",
    "'''\n",
    "for i in range(0, 3):\n",
    "    for j in range(0, 101):\n",
    "        Lap_seq[i][j] = Lap_seq[i][j].astype('float64')\n",
    "        Lap_seq[i][j] = Lap_seq[i][j]/255'''"
   ]
  },
  {
   "cell_type": "code",
   "execution_count": null,
   "metadata": {},
   "outputs": [],
   "source": []
  }
 ],
 "metadata": {
  "kernelspec": {
   "display_name": "Python 3",
   "language": "python",
   "name": "python3"
  },
  "language_info": {
   "codemirror_mode": {
    "name": "ipython",
    "version": 3
   },
   "file_extension": ".py",
   "mimetype": "text/x-python",
   "name": "python",
   "nbconvert_exporter": "python",
   "pygments_lexer": "ipython3",
   "version": "3.7.3"
  }
 },
 "nbformat": 4,
 "nbformat_minor": 2
}
