{
 "cells": [
  {
   "cell_type": "code",
   "execution_count": 1,
   "metadata": {},
   "outputs": [],
   "source": [
    "# 필요한 라이브러리 및 모듈\n",
    "\n",
    "import numpy as np\n",
    "import cv2\n",
    "from matplotlib import pyplot as plt"
   ]
  },
  {
   "cell_type": "code",
   "execution_count": 2,
   "metadata": {},
   "outputs": [],
   "source": [
    "# Read Video file\n",
    "\n",
    "# generate video object\n",
    "filename = \"./input/original_video_SR30.mp4\"\n",
    "cap = cv2.VideoCapture(filename)"
   ]
  },
  {
   "cell_type": "code",
   "execution_count": 3,
   "metadata": {
    "scrolled": true
   },
   "outputs": [
    {
     "name": "stdout",
     "output_type": "stream",
     "text": [
      "Shape of image is :  (256, 640, 3)\n",
      "Shape of image is :  (256, 640)\n"
     ]
    }
   ],
   "source": [
    "# RGB to Gray Scale\n",
    "\n",
    "# 첫번째 프레임 읽기\n",
    "ret, frame = cap.read()\n",
    "\n",
    "# 영상의 사이즈 확인\n",
    "frame_size = frame.shape\n",
    "print(\"Shape of image is : \",frame.shape)\n",
    "\n",
    "# Gray Sacle 이미지로 변환\n",
    "gray = cv2.cvtColor(frame, cv2.COLOR_BGR2GRAY)\n",
    "print(\"Shape of image is : \",gray.shape)"
   ]
  },
  {
   "cell_type": "code",
   "execution_count": 4,
   "metadata": {},
   "outputs": [],
   "source": [
    "# 이미지 명암값 대비를 크게 하여 더욱 선명하게 함\n",
    "def CLAHE(input):\n",
    "    clahe = cv2.createCLAHE(clipLimit=2.0, tileGridSize=(8,8))\n",
    "    output = clahe.apply(input)\n",
    "    return output"
   ]
  },
  {
   "cell_type": "code",
   "execution_count": 5,
   "metadata": {},
   "outputs": [],
   "source": [
    "# pyramid 안쓰고, resize함수로 피라미드 정의\n",
    "def pyramidDown(input):\n",
    "    heigh, width = input.shape\n",
    "    blur = cv2.GaussianBlur(input, (5,5), 0)\n",
    "    output = cv2.resize(blur, None, fx = 0.5, fy = 0.5)\n",
    "    return output\n",
    "\n",
    "def pyramidUp(input):\n",
    "    heigh, width = input.shape\n",
    "    input = cv2.resize(input, None, fx = 2, fy = 2, interpolation = cv2.INTER_LINEAR)\n",
    "    output = cv2.GaussianBlur(input, (5,5), 0)\n",
    "    return output"
   ]
  },
  {
   "cell_type": "code",
   "execution_count": 6,
   "metadata": {},
   "outputs": [],
   "source": [
    "# Generate Pyramid\n",
    "GauSeq = [[],[],[],[],[],[],[]]\n",
    "LapSeq = [[],[],[],[],[],[],[]]\n",
    "\n",
    "while ret:\n",
    "    gray = cv2.cvtColor(frame, cv2.COLOR_BGR2GRAY)\n",
    "    gray = CLAHE(gray)\n",
    "    \n",
    "    # Normalize intensity\n",
    "    gray = gray.astype('float64')\n",
    "    gray = gray / 255\n",
    "    \n",
    "    Gau = [gray]\n",
    "    Down = pyramidDown(gray)\n",
    "    Gau.append(Down)\n",
    "\n",
    "    for i in range (0,6):\n",
    "        Down = pyramidDown(Down)\n",
    "        Gau.append(Down)\n",
    "    \n",
    "    GauCopy = []\n",
    "    GauCopy[:] = Gau\n",
    "    GauCopy.reverse()\n",
    "    \n",
    "    for i in range (0,7):\n",
    "        GauSeq[i].append(GauCopy.pop())\n",
    "\n",
    "    Lap = []\n",
    "    for i in range (0, 7):\n",
    "        Up = pyramidUp(Gau.pop())\n",
    "        Lap.append(Gau[len(Gau)-1]-Up)\n",
    "    \n",
    "    for i in range (0,7):\n",
    "        LapSeq[i].append(Lap.pop())\n",
    "    ret, frame = cap.read()"
   ]
  },
  {
   "cell_type": "code",
   "execution_count": 7,
   "metadata": {},
   "outputs": [],
   "source": [
    "# Parameter Initializing \n",
    "\n",
    "# SR : Sampling Rate\n",
    "SR = 2200\n",
    "Fn = SR/2\n",
    "# T : Period\n",
    "T = 1/SR\n",
    "# Frequency unit : Hz\n",
    "Low_freq = 350\n",
    "High_freq = 370\n",
    "# alpha is Magnification coefficient\n",
    "alpha = 200"
   ]
  },
  {
   "cell_type": "code",
   "execution_count": 8,
   "metadata": {},
   "outputs": [],
   "source": [
    "def filtering(target, lowFrequency, highFrequency, samplingRate, order = 5):\n",
    "    import butter\n",
    "    \n",
    "    frameSize = target[0].shape\n",
    "    for i in range (0, frameSize[0]):\n",
    "        for j in range (0, frameSize[1]):\n",
    "            timeStack = []\n",
    "            \n",
    "            for k in range(0, len(target)):\n",
    "                timeStack.append(target[k][i][j])\n",
    "            \n",
    "            timeStack = butter.butter_bandpass_filter(timeStack, lowFrequency, highFrequency, samplingRate, order)\n",
    "            for k in range(0, len(target)):\n",
    "                target[k][i][j] += alpha * timeStack[k]\n",
    "    return target"
   ]
  },
  {
   "cell_type": "code",
   "execution_count": 10,
   "metadata": {},
   "outputs": [
    {
     "name": "stdout",
     "output_type": "stream",
     "text": [
      "delay :  113.82859420776367\n"
     ]
    }
   ],
   "source": [
    "# Bandpass filtering\n",
    "# 1min ~ 3min(Processor : i5-6200U)\n",
    "import time\n",
    "start = time.time()\n",
    "for i in range(0, 3):\n",
    "    LapSeq[i] = filtering(LapSeq[i], Low_freq, High_freq, SR)\n",
    "end = time.time()\n",
    "delay = end - start\n",
    "print(\"delay : \", delay)"
   ]
  },
  {
   "cell_type": "code",
   "execution_count": 12,
   "metadata": {
    "scrolled": true
   },
   "outputs": [],
   "source": [
    "# Gaussian + Laplacian ->\n",
    "Rec2= []\n",
    "for i in range (0, len(LapSeq[0])):\n",
    "    Sum = LapSeq[2][i] + GauSeq[2][i]\n",
    "    Rec2.append(Sum)\n",
    "\n",
    "for i in range (0, len(LapSeq[0])):\n",
    "    Rec2[i] = pyramidUp(Rec2[i])\n",
    "\n",
    "Rec1 = []\n",
    "for i in range (0, len(LapSeq[0])):\n",
    "    Sum = LapSeq[1][i] + Rec2[i]\n",
    "    Rec1.append(Sum)\n",
    "    \n",
    "for i in range (0, len(LapSeq[0])):\n",
    "    Rec1[i] = pyramidUp(Rec1[i])\n",
    "\n",
    "Rec0 = []\n",
    "for i in range (0, len(LapSeq[0])):\n",
    "    Sum = LapSeq[0][i]+ Rec1[i]\n",
    "    Rec0.append(Sum)"
   ]
  },
  {
   "cell_type": "code",
   "execution_count": 13,
   "metadata": {},
   "outputs": [],
   "source": [
    "# 형변환 및 오버플로우 방지\n",
    "\n",
    "for i in range(0, len(Rec0)):\n",
    "    Rec0[i][Rec0[i]<0] = 0\n",
    "    Rec0[i][Rec0[i]>1] = 1\n",
    "    Rec0[i] *= 255\n",
    "    Rec0[i] = Rec0[i].astype('uint8')"
   ]
  },
  {
   "cell_type": "code",
   "execution_count": 14,
   "metadata": {},
   "outputs": [],
   "source": [
    "# Output 파일 생성 \n",
    "\n",
    "size = Rec0[0].shape\n",
    "\n",
    "fourcc = cv2.VideoWriter_fourcc(*'MP4V')\n",
    "out = cv2.VideoWriter('./output/' + 'alpha_' + str(alpha) + 'output.mp4', fourcc, 30.0, (640, 256), isColor = False)\n",
    "\n",
    "for i in range (0, len(Rec0)):\n",
    "    out.write(Rec0[i])\n",
    "    \n",
    "out.release()"
   ]
  },
  {
   "cell_type": "code",
   "execution_count": null,
   "metadata": {},
   "outputs": [],
   "source": []
  }
 ],
 "metadata": {
  "kernelspec": {
   "display_name": "Python 3",
   "language": "python",
   "name": "python3"
  },
  "language_info": {
   "codemirror_mode": {
    "name": "ipython",
    "version": 3
   },
   "file_extension": ".py",
   "mimetype": "text/x-python",
   "name": "python",
   "nbconvert_exporter": "python",
   "pygments_lexer": "ipython3",
   "version": "3.7.3"
  }
 },
 "nbformat": 4,
 "nbformat_minor": 2
}
