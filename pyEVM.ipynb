{
 "cells": [
  {
   "cell_type": "code",
   "execution_count": 1,
   "metadata": {},
   "outputs": [],
   "source": [
    "# 필요한 라이브러리 및 모듈\n",
    "\n",
    "import numpy as np\n",
    "import cv2\n",
    "import butter\n",
    "from matplotlib import pyplot as plt"
   ]
  },
  {
   "cell_type": "code",
   "execution_count": 2,
   "metadata": {},
   "outputs": [],
   "source": [
    "# 1. Read Video file\n",
    "\n",
    "# generate video object\n",
    "filename = \"./input/original_video_SR30.mp4\"\n",
    "cap = cv2.VideoCapture(filename)"
   ]
  },
  {
   "cell_type": "code",
   "execution_count": 3,
   "metadata": {
    "scrolled": false
   },
   "outputs": [
    {
     "name": "stdout",
     "output_type": "stream",
     "text": [
      "Shape of image is :  (256, 640, 3)\n",
      "Shape of image is :  (256, 640)\n"
     ]
    }
   ],
   "source": [
    "# 2. Gray Scale로 변환\n",
    "\n",
    "# 첫번째 프레임 읽기\n",
    "ret, frame = cap.read()\n",
    "\n",
    "# 영상의 사이즈 확인\n",
    "frame_size = frame.shape\n",
    "print(\"Shape of image is : \",frame.shape)\n",
    "\n",
    "# Gray Sacle 이미지로 변환\n",
    "gray = cv2.cvtColor(frame, cv2.COLOR_BGR2GRAY)\n",
    "print(\"Shape of image is : \",gray.shape)"
   ]
  },
  {
   "cell_type": "code",
   "execution_count": null,
   "metadata": {
    "scrolled": false
   },
   "outputs": [],
   "source": [
    "# 3. Pyramid\n",
    "# 한 프레임에 먼저 해보기\n",
    "\n",
    "'''\n",
    "Gau = [gray]\n",
    "Down = cv2.pyrDown(gray)\n",
    "Gau.append(Down)\n",
    "\n",
    "for i in range (0, 5):\n",
    "    Down = cv2.pyrDown(Down)\n",
    "    Gau.append(Down)\n",
    "\n",
    "Gau_copy = []\n",
    "Gau_copy[:] = Gau\n",
    "Gau_copy.reverse()\n",
    "\n",
    "# 이미지를 sequential하게 저장\n",
    "Gau_seq = [[],[],[],[],[],[]]\n",
    "for i in range (0,6):\n",
    "    Gau_seq[i].append(Gau_copy.pop())\n",
    "    \n",
    "Lap = []\n",
    "for i in range (0, 6):\n",
    "    Up = cv2.pyrUp(Gau.pop())\n",
    "    Lap.append(Up - Gau[len(Gau)-1])\n",
    "    \n",
    "#Lap.reverse()\n",
    "\n",
    "Lap_seq = [[],[],[],[],[],[]]\n",
    "for i in range (0,6):\n",
    "    Lap_seq[i].append(Lap.pop())'''"
   ]
  },
  {
   "cell_type": "code",
   "execution_count": null,
   "metadata": {},
   "outputs": [],
   "source": [
    "# 모든 프레임에 대해 적용\n",
    "'''\n",
    "while ret:\n",
    "    gray = cv2.cvtColor(frame, cv2.COLOR_BGR2GRAY)\n",
    "    \n",
    "    #hist = cv2.equalizeHist(gray)\n",
    "    \n",
    "    Gau = [gray]\n",
    "    Down = cv2.pyrDown(gray)\n",
    "    Gau.append(Down)\n",
    "\n",
    "    for i in range (0, 5):\n",
    "        Down = cv2.pyrDown(Down)\n",
    "        Gau.append(Down)\n",
    "    \n",
    "    Gau_copy = []\n",
    "    Gau_copy[:] = Gau\n",
    "    Gau_copy.reverse()\n",
    "    \n",
    "    for i in range (0,6):\n",
    "        Gau_seq[i].append(Gau_copy.pop())\n",
    "\n",
    "    Lap = []\n",
    "    for i in range (0, 6):\n",
    "        Up = cv2.pyrUp(Gau.pop())\n",
    "        Lap.append(Up - Gau[len(Gau)-1])\n",
    "\n",
    "    #Lap.reverse()\n",
    "    \n",
    "    for i in range (0,6):\n",
    "        Lap_seq[i].append(Lap.pop())\n",
    "    ret, frame = cap.read()'''"
   ]
  },
  {
   "cell_type": "code",
   "execution_count": null,
   "metadata": {},
   "outputs": [],
   "source": [
    "# 3. 부동소수점 데이터로 먼저 변환\n",
    "'''\n",
    "for i in range(0, 3):\n",
    "    for j in range(0, 101):\n",
    "        Lap_seq[i][j] = Lap_seq[i][j].astype('float64')\n",
    "        Lap_seq[i][j] = Lap_seq[i][j]/255'''"
   ]
  },
  {
   "cell_type": "code",
   "execution_count": 4,
   "metadata": {},
   "outputs": [],
   "source": [
    "# 4. Pyramid\n",
    "# pyramid 안쓰고, resize함수로 구현\n",
    "\n",
    "def pyramidDown(input):\n",
    "    # input is numpy array\n",
    "    heigh, width = input.shape\n",
    "    #output = np.zeros((size[0]//2, size[1]//2))\n",
    "    blur = cv2.GaussianBlur(input, )\n",
    "    output = cv2.resize(input, None, fx = 0.5, fy = 0.5)\n",
    "    return output\n",
    "\n",
    "def pyramidUp(input):\n",
    "    # input is numpy array\n",
    "    heigh, width = input.shape\n",
    "    #output = np.zeros((size[0]//2, size[1]//2))\n",
    "    output = cv2.resize(input, None, fx = 2, fy = 2, interpolation = cv2.INTER_CUBIC)\n",
    "    return output\n",
    "\n",
    "# 이미지의 빍기값을 0~1 사이로 정규화\n",
    "gray = gray.astype('float64')\n",
    "gray = gray / 255\n",
    "\n",
    "Gau = [gray]\n",
    "Down = pyramidDown(gray)\n",
    "\n",
    "Gau.append(Down)\n",
    "\n",
    "for i in range (0, 5):\n",
    "    Down = pyramidDown(Down)\n",
    "    Gau.append(Down)\n",
    "\n",
    "Gau_copy = []\n",
    "Gau_copy[:] = Gau\n",
    "Gau_copy.reverse()\n",
    "\n",
    "# 이미지를 sequential하게 저장\n",
    "Gau_seq = [[],[],[],[],[],[]]\n",
    "for i in range (0,6):\n",
    "    Gau_seq[i].append(Gau_copy.pop())\n",
    "    \n",
    "Lap = []\n",
    "for i in range (0, 6):\n",
    "    Up = pyramidUp(Gau.pop())\n",
    "    Lap.append(Up - Gau[len(Gau)-1])\n",
    "    \n",
    "#Lap.reverse()\n",
    "\n",
    "Lap_seq = [[],[],[],[],[],[]]\n",
    "for i in range (0,6):\n",
    "    Lap_seq[i].append(Lap.pop())\n",
    "    "
   ]
  },
  {
   "cell_type": "code",
   "execution_count": 5,
   "metadata": {},
   "outputs": [],
   "source": [
    "# 모든 프레임에 대해 과정3 적용\n",
    "\n",
    "while ret:\n",
    "    gray = cv2.cvtColor(frame, cv2.COLOR_BGR2GRAY)\n",
    "    \n",
    "    #hist = cv2.equalizeHist(gray)\n",
    "    # 이미지의 빍기값을 0~1 사이로 정규화\n",
    "    gray = gray.astype('float64')\n",
    "    gray = gray / 255\n",
    "    \n",
    "    Gau = [gray]\n",
    "    Down = pyramidDown(gray)\n",
    "    Gau.append(Down)\n",
    "\n",
    "    for i in range (0, 5):\n",
    "        Down = pyramidDown(Down)\n",
    "        Gau.append(Down)\n",
    "    \n",
    "    Gau_copy = []\n",
    "    Gau_copy[:] = Gau\n",
    "    Gau_copy.reverse()\n",
    "    \n",
    "    for i in range (0,6):\n",
    "        Gau_seq[i].append(Gau_copy.pop())\n",
    "\n",
    "    Lap = []\n",
    "    for i in range (0, 6):\n",
    "        Up = pyramidUp(Gau.pop())\n",
    "        Lap.append(Up - Gau[len(Gau)-1])\n",
    "\n",
    "    #Lap.reverse()\n",
    "    \n",
    "    for i in range (0,6):\n",
    "        Lap_seq[i].append(Lap.pop())\n",
    "    ret, frame = cap.read()"
   ]
  },
  {
   "cell_type": "code",
   "execution_count": 6,
   "metadata": {
    "scrolled": true
   },
   "outputs": [
    {
     "name": "stdout",
     "output_type": "stream",
     "text": [
      "[[ 0.00000000e+00 -2.22044605e-16  0.00000000e+00 ...  3.19896025e-04\n",
      "   9.37069164e-05 -4.36221852e-05]\n",
      " [-1.11022302e-16  0.00000000e+00 -1.11022302e-16 ... -5.56586770e-04\n",
      "  -6.58521465e-05  2.31574563e-04]\n",
      " [ 0.00000000e+00 -2.22044605e-16  0.00000000e+00 ...  1.96745629e-03\n",
      "  -2.80851476e-04  7.33498966e-04]\n",
      " ...\n",
      " [ 0.00000000e+00  0.00000000e+00  0.00000000e+00 ... -5.91297524e-03\n",
      "  -3.09084724e-03 -1.37640261e-03]\n",
      " [ 0.00000000e+00  0.00000000e+00  0.00000000e+00 ... -3.82685942e-03\n",
      "  -1.22870651e-03  3.59389361e-04]\n",
      " [ 0.00000000e+00  0.00000000e+00  0.00000000e+00 ...  7.53087062e-03\n",
      "   2.10299024e-03  3.58572567e-03]]\n"
     ]
    }
   ],
   "source": [
    "print(Lap_seq[0][0])\n",
    "f = open('LaplacianPramid_L0_0_change1.csv', 'a')\n",
    "np.savetxt(f, np.column_stack((Lap_seq[0][0])), delimiter=\",\", fmt='%s',  newline='\\n')"
   ]
  },
  {
   "cell_type": "code",
   "execution_count": 7,
   "metadata": {},
   "outputs": [],
   "source": [
    "# 4. 확대 주파수 결정 및 필터링\n",
    "# Parameter Initializing \n",
    "\n",
    "SR = 2200 # SR is Sampling Rate\n",
    "Fn = SR/2\n",
    "T = 1/SR # T is Period\n",
    "Low_freq = 350\n",
    "High_freq = 370\n",
    "alpha = 100.0"
   ]
  },
  {
   "cell_type": "code",
   "execution_count": 8,
   "metadata": {},
   "outputs": [
    {
     "data": {
      "text/plain": [
       "\"\\nfor i in range(0, 3):\\n    for j in range(0, 101):\\n        Lap_seq[i][j] = Lap_seq[i][j].astype('float64')\\n        Lap_seq[i][j] = Lap_seq[i][j]/255\""
      ]
     },
     "execution_count": 8,
     "metadata": {},
     "output_type": "execute_result"
    }
   ],
   "source": [
    "# 4.5 연산을 위해 0~1 사이의 부동소수점으로 변환\n",
    "'''\n",
    "for i in range(0, 3):\n",
    "    for j in range(0, 101):\n",
    "        Lap_seq[i][j] = Lap_seq[i][j].astype('float64')\n",
    "        Lap_seq[i][j] = Lap_seq[i][j]/255'''"
   ]
  },
  {
   "cell_type": "code",
   "execution_count": 9,
   "metadata": {},
   "outputs": [
    {
     "data": {
      "text/plain": [
       "'\\nf = open(\\'LaplacianPramid_L0_0.csv\\', \\'a\\')\\n\\nnp.savetxt(f, np.column_stack((Lap_seq[0][0])), delimiter=\",\", fmt=\\'%s\\',  newline=\\'\\n\\')'"
      ]
     },
     "execution_count": 9,
     "metadata": {},
     "output_type": "execute_result"
    }
   ],
   "source": [
    "# pyramid data 저장\n",
    "'''\n",
    "f = open('LaplacianPramid_L0_0.csv', 'a')\n",
    "\n",
    "np.savetxt(f, np.column_stack((Lap_seq[0][0])), delimiter=\",\", fmt='%s',  newline='\\n')'''"
   ]
  },
  {
   "cell_type": "code",
   "execution_count": 10,
   "metadata": {
    "scrolled": false
   },
   "outputs": [
    {
     "name": "stdout",
     "output_type": "stream",
     "text": [
      "1st level :  71.00811529159546\n"
     ]
    }
   ],
   "source": [
    "# 원하는 주파수 선택적으로 확대 \n",
    "import time\n",
    "start = time.time()\n",
    "f=open('python_bandpass.csv','a')\n",
    "\n",
    "# level 0\n",
    "for i in range (0, frame_size[0]):\n",
    "    for j in range (0, frame_size[1]):\n",
    "        time_stack = []\n",
    "        \n",
    "        for k in range (0, 101):\n",
    "            time_stack.append(Lap_seq[0][k][i][j])\n",
    "            \n",
    "        time_stack = butter.butter_bandpass_filter(time_stack, Low_freq, High_freq, SR, order=5)\n",
    "        #np.savetxt(f, np.column_stack(time_stack), delimiter=\",\", fmt='%s',  newline='\\n')\n",
    "        for k in range (0, 101):\n",
    "            Lap_seq[0][k][i][j] += alpha * time_stack[k]\n",
    "            \n",
    "end = time.time()\n",
    "delay = end - start\n",
    "print(\"1st level : \", delay)"
   ]
  },
  {
   "cell_type": "code",
   "execution_count": 11,
   "metadata": {
    "scrolled": false
   },
   "outputs": [
    {
     "name": "stdout",
     "output_type": "stream",
     "text": [
      "2nd level :  16.53279137611389\n"
     ]
    }
   ],
   "source": [
    "# level 1 \n",
    "start = time.time()\n",
    "for i in range (0, Lap_seq[1][0].shape[0]):\n",
    "    for j in range (0, Lap_seq[1][0].shape[1]):\n",
    "        time_stack = []\n",
    "        \n",
    "        for k in range (0, 101):\n",
    "            time_stack.append(Lap_seq[1][k][i][j])\n",
    "            \n",
    "        time_stack = butter.butter_bandpass_filter(time_stack, Low_freq, High_freq, SR, order=5)\n",
    "        \n",
    "        for k in range (0, 101):\n",
    "            Lap_seq[1][k][i][j] += alpha * time_stack[k]\n",
    "            \n",
    "end = time.time()\n",
    "delay = end - start\n",
    "print(\"2nd level : \", delay)"
   ]
  },
  {
   "cell_type": "code",
   "execution_count": 12,
   "metadata": {
    "scrolled": false
   },
   "outputs": [
    {
     "name": "stdout",
     "output_type": "stream",
     "text": [
      "3nd level :  4.170847177505493\n"
     ]
    }
   ],
   "source": [
    "# level 2\n",
    "start = time.time()\n",
    "\n",
    "for i in range (0, Lap_seq[2][0].shape[0]):\n",
    "    for j in range (0, Lap_seq[2][0].shape[1]):\n",
    "        time_stack = []\n",
    "        \n",
    "        for k in range (0, 101):\n",
    "            time_stack.append(Lap_seq[2][k][i][j])\n",
    "            \n",
    "        time_stack = butter.butter_bandpass_filter(time_stack, Low_freq, High_freq, SR, order=5)\n",
    "        \n",
    "        for k in range (0, 101):\n",
    "            Lap_seq[2][k][i][j] += time_stack[k]\n",
    "            \n",
    "end = time.time()\n",
    "delay = end - start\n",
    "print(\"3nd level : \", delay)"
   ]
  },
  {
   "cell_type": "code",
   "execution_count": 13,
   "metadata": {},
   "outputs": [],
   "source": [
    "# 변환했던 부동소수점 데이터를 다시 정수로 변환\n",
    "\n",
    "for i in range(0, 3):\n",
    "    for j in range(0, 101):\n",
    "        Lap_seq[i][j] *= 255\n",
    "        Lap_seq[i][j] = Lap_seq[i][j].astype('uint8')\n",
    "\n",
    "for i in range(0, 3):\n",
    "    for j in range(0, 101):\n",
    "        Gau_seq[i][j] *= 255\n",
    "        Gau_seq[i][j] = Gau_seq[i][j].astype('uint8')\n",
    "        "
   ]
  },
  {
   "cell_type": "code",
   "execution_count": 14,
   "metadata": {
    "scrolled": false
   },
   "outputs": [],
   "source": [
    "# 5. 동영상으로 저장하기\n",
    "# 영상 스택 쌓기\n",
    "\n",
    "Rec2= []\n",
    "for i in range (0, 101):\n",
    "    Rec2.append( Lap_seq[2][i] + Gau_seq[2][i])\n",
    "\n",
    "for i in range (0, 101):\n",
    "    Rec2[i] = cv2.pyrUp(Rec2[i])\n",
    "\n",
    "Rec1 = []\n",
    "for i in range (0, 101):\n",
    "    Rec1.append( Lap_seq[1][i] + Rec2[i] )\n",
    "\n",
    "for i in range (0, 101):\n",
    "    Rec1[i] = cv2.pyrUp(Rec1[i])\n",
    "\n",
    "Rec0 = []\n",
    "for i in range (0, 101):\n",
    "    Rec0.append( Lap_seq[0][i] + Rec1[i] )"
   ]
  },
  {
   "cell_type": "code",
   "execution_count": 15,
   "metadata": {},
   "outputs": [
    {
     "name": "stdout",
     "output_type": "stream",
     "text": [
      "done\n",
      "(256, 640)\n"
     ]
    }
   ],
   "source": [
    "# Output 파일 생성 \n",
    "\n",
    "size = Rec0[0].shape\n",
    "\n",
    "fourcc = cv2.VideoWriter_fourcc(*'MP4V')\n",
    "out = cv2.VideoWriter('./output/' + 'alpha_' + str(alpha) + 'output.mp4', fourcc, 30.0, (640, 256), isColor = False)\n",
    "\n",
    "for i in range (0, len(Rec0)):\n",
    "    #out.write(cv2.cvtColor(Rec0[i], cv2.COLOR_GRAY2RGB))\n",
    "    out.write(Rec0[i])\n",
    "#    cv2.imshow('frame', Rec0[i])\n",
    "#    if cv2.waitKey(0) & 0xFF == ord('q'):\n",
    "#            break\n",
    "\n",
    "#cv2.destroyAllWindows()\n",
    "            \n",
    "out.release()\n",
    "\n",
    "print(\"done\")\n",
    "print(size)"
   ]
  },
  {
   "cell_type": "code",
   "execution_count": 16,
   "metadata": {},
   "outputs": [],
   "source": [
    "cv2.imshow('ad', Lap_seq[1][1])\n",
    "cv2.waitKey(0)\n",
    "cv2.destroyAllWindows()"
   ]
  },
  {
   "cell_type": "code",
   "execution_count": null,
   "metadata": {},
   "outputs": [],
   "source": []
  }
 ],
 "metadata": {
  "kernelspec": {
   "display_name": "Python 3",
   "language": "python",
   "name": "python3"
  },
  "language_info": {
   "codemirror_mode": {
    "name": "ipython",
    "version": 3
   },
   "file_extension": ".py",
   "mimetype": "text/x-python",
   "name": "python",
   "nbconvert_exporter": "python",
   "pygments_lexer": "ipython3",
   "version": "3.7.3"
  }
 },
 "nbformat": 4,
 "nbformat_minor": 2
}
